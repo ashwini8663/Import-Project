{
 "cells": [
  {
   "cell_type": "code",
   "execution_count": 1,
   "id": "78a00f1c-e885-4f1d-9044-1c7218832143",
   "metadata": {
    "id": "bbd20997-80a6-42a7-9165-b97a4ffb4825",
    "tags": []
   },
   "outputs": [
    {
     "name": "stdout",
     "output_type": "stream",
     "text": [
      "Hello Team\n"
     ]
    }
   ],
   "source": [
    "print(\"Hello Team\")"
   ]
  },
  {
   "cell_type": "code",
   "execution_count": null,
   "id": "be55257a-7b73-4c76-8282-2a4f0bf5de2e",
   "metadata": {
    "id": "be55257a-7b73-4c76-8282-2a4f0bf5de2e"
   },
   "outputs": [],
   "source": []
  }
 ],
 "metadata": {
  "kernelspec": {
   "display_name": "Python 3.10",
   "language": "python",
   "name": "python3"
  },
  "language_info": {
   "codemirror_mode": {
    "name": "ipython",
    "version": 3
   },
   "file_extension": ".py",
   "mimetype": "text/x-python",
   "name": "python",
   "nbconvert_exporter": "python",
   "pygments_lexer": "ipython3",
   "version": "3.10.9"
  }
 },
 "nbformat": 4,
 "nbformat_minor": 5
}
